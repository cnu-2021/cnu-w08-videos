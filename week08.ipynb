{
 "cells": [
  {
   "cell_type": "markdown",
   "metadata": {
    "slideshow": {
     "slide_type": "slide"
    }
   },
   "source": [
    "# Week 8 - Solving nonlinear equations: Root-finding algorithms\n",
    "\n",
    "Charlotte Desvages"
   ]
  },
  {
   "cell_type": "markdown",
   "metadata": {
    "slideshow": {
     "slide_type": "slide"
    }
   },
   "source": [
    "Nonlinear equations take the form\n",
    "\n",
    "$$\n",
    "F(x) = 0,\n",
    "$$\n",
    "\n",
    "where $F(x)$ is a nonlinear function of $x$. For the moment we consider nonlinear equations of a single variable.\n",
    "\n",
    "Solving the equation is the same as finding the root(s) $x_\\ast$ of $F$."
   ]
  },
  {
   "cell_type": "markdown",
   "metadata": {
    "slideshow": {
     "slide_type": "subslide"
    }
   },
   "source": [
    "Many problems in mathematical modelling deal with nonlinear equations. Often they come up in:\n",
    "- solving differential equations numerically with an *implicit* method,\n",
    "- *optimisation* problems: find $x$ which minimises/maximises $F(x)$ (i.e. solve $F'(x) = 0$). More on that in Weeks 10/11!"
   ]
  },
  {
   "cell_type": "markdown",
   "metadata": {
    "slideshow": {
     "slide_type": "subslide"
    }
   },
   "source": [
    "Some nonlinear equations have closed-form solutions:\n",
    "- $3x^2 - 4x + 2 = 8x^3 - 3$\n",
    "- $x^8 - 4x^4 = 1$\n",
    "- $\\cos^2(x) = a$\n",
    "- etc..."
   ]
  },
  {
   "cell_type": "markdown",
   "metadata": {
    "slideshow": {
     "slide_type": "fragment"
    }
   },
   "source": [
    "...but most don't:\n",
    "- $x e^x = -\\sin(2x)$\n",
    "- $\\cos(x) \\cosh(x) = a$\n",
    "- Most polynomials of degree 5 and above (Abel-Ruffini, Galois)\n",
    "- etc...\n",
    "\n",
    "We can use **numerical methods** to compute approximated solutions."
   ]
  },
  {
   "cell_type": "markdown",
   "metadata": {
    "slideshow": {
     "slide_type": "slide"
    }
   },
   "source": [
    "## Iterative methods to solve nonlinear equations\n",
    "\n",
    "Most **algorithms** used to compute solutions of nonlinear equations are **iterative**:\n",
    "1. we start with a **guess** for where the root may be;\n",
    "2. if we are **close enough** to the solution, we stop (we say that the algorithm has **converged**);\n",
    "3. if not, we **refine our guess** using information we have about the function;\n",
    "4. we **go back to step 1** with our new guess."
   ]
  },
  {
   "cell_type": "markdown",
   "metadata": {
    "slideshow": {
     "slide_type": "fragment"
    }
   },
   "source": [
    "The difference between the different methods is how they do **step 3**.\n",
    "\n",
    "The general idea behind these methods is to simplify/approximate the nonlinear problem with a simpler linear problem, which we solve repeatedly until convergence is achieved."
   ]
  },
  {
   "cell_type": "markdown",
   "metadata": {
    "slideshow": {
     "slide_type": "subslide"
    }
   },
   "source": [
    "### Convergence criteria\n",
    "\n",
    "How do we know when we are close enough to the solution, if we don't know the solution in advance?"
   ]
  },
  {
   "cell_type": "markdown",
   "metadata": {
    "slideshow": {
     "slide_type": "fragment"
    }
   },
   "source": [
    "We set a desired **tolerance**, i.e. a margin of error which we're happy to tolerate for the computed solution -- a desired precision.\n",
    "\n",
    "Let $x_k$ be our current guess at the $k$th iteration. Generally, we use one of these two criteria:\n",
    "- stop when $|F(x_k)| < \\varepsilon$ for some small tolerance $\\varepsilon > 0$, i.e. when $F(x_k)$ is sufficiently close to zero,\n",
    "- stop when $|x_k - x_{k-1}| < \\delta$ for some small tolerance $\\delta > 0$, i.e. when refining the current guess only provides very small improvements, indicating that we have likely converged."
   ]
  },
  {
   "cell_type": "markdown",
   "metadata": {
    "slideshow": {
     "slide_type": "slide"
    }
   },
   "source": [
    "## Bracketing methods: bisection and regula falsi\n",
    "\n",
    "**Bracketing methods** seek to find smaller and smaller **intervals** $[a, b]$ which contain a root.\n",
    "\n",
    "They rely on the Intermediate Value Theorem: for a continuous function $F(x)$, if $F(a)$ has different sign than $F(b)$, then $F(x)$ has a root $x_\\ast \\in [a, b]$."
   ]
  },
  {
   "cell_type": "markdown",
   "metadata": {
    "slideshow": {
     "slide_type": "subslide"
    }
   },
   "source": [
    "### Bisection\n",
    "\n",
    "Key idea: start with an interval $[a, b]$ such that $F(a)$ and $F(b)$ have different signs.\n",
    "\n",
    "Then, split the interval in two, and evaluate $F(\\frac{a+b}{2})$ at the midpoint. Compare the sign of $F(\\frac{a+b}{2})$ with the sign of $F(a)$ and $F(b)$, and choose the half-interval which still contains the root. Repeat the procedure with the new, smaller interval, until convergence."
   ]
  },
  {
   "cell_type": "markdown",
   "metadata": {
    "slideshow": {
     "slide_type": "subslide"
    }
   },
   "source": [
    "### Regula falsi\n",
    "\n",
    "Similar to bisection, but instead of choosing the midpoint, we choose the point of intersection between the x-axis and a straight line passing through the points $(a, F(a))$ and $(b, F(b))$."
   ]
  },
  {
   "cell_type": "markdown",
   "metadata": {
    "slideshow": {
     "slide_type": "slide"
    }
   },
   "source": [
    "## Order of convergence\n",
    "\n",
    "Different methods converge more or less quickly towards the solution.\n",
    "\n",
    "For root-finding methods, the **order of convergence** $p$ is measured in terms of how much the absolute error $|e_k| = |x_k - x_\\ast|$ is improved from one iteration to the next, once we are sufficiently close to the root.\n",
    "\n",
    "$$\n",
    "\\lim_{k \\to \\infty} \\frac{|e_{k+1}|}{|e_k|^{p}} = \\alpha,\n",
    "$$\n",
    "\n",
    "where $\\alpha \\in \\mathbb{R}$ is a constant."
   ]
  },
  {
   "cell_type": "markdown",
   "metadata": {
    "slideshow": {
     "slide_type": "subslide"
    }
   },
   "source": [
    "### Numerical determination of p\n",
    "\n",
    "(**PCP** section 7.5)\n",
    "\n",
    "In fact, for a convergent method, we have\n",
    "\n",
    "$$\n",
    "\\frac{|e_{k+1}|}{|e_k|^{p_k}} = \\alpha, \\quad \\text{and} \\quad \\lim_{k \\to \\infty} p_k = p.\n",
    "$$\n",
    "\n",
    "The value of $p_k$ depends on the iteration $k$, but reaches a finite limit $p$ as the number of iteration grows. This $p$ is the order of convergence."
   ]
  },
  {
   "cell_type": "markdown",
   "metadata": {
    "slideshow": {
     "slide_type": "subslide"
    }
   },
   "source": [
    "Considering 3 successive guesses $x_{k-1}$, $x_k$, and $x_{k+1}$, for sufficiently large $k$, such that $p_k \\approx p_{k-1}$. This is to say that the value of $p_k$ does not vary significantly between two successive iterations.\n",
    "\n",
    "We have\n",
    "\n",
    "\\begin{align}\n",
    "|e_{k+1}| &= \\alpha |e_k|^{p_k} \\\\\n",
    "|e_k| &= \\alpha |e_{k-1}|^{p_k}\n",
    "\\end{align}"
   ]
  },
  {
   "cell_type": "markdown",
   "metadata": {
    "slideshow": {
     "slide_type": "fragment"
    }
   },
   "source": [
    "To get rid of $\\alpha$, divide the first equation by the second, and take the log on both sides to obtain an expression for $p_k$:\n",
    "\n",
    "$$\n",
    "\\frac{|e_{k+1}|}{|e_k|} = \\left(\\frac{|e_{k}|}{|e_{k-1}|}\\right)^{p_k}\n",
    "\\quad \\Rightarrow \\quad\n",
    "p_k = \\frac{\\log\\left(|e_{k+1}| / |e_k|\\right)}{\\log\\left(|e_{k}| / |e_{k-1}|\\right)}.\n",
    "$$"
   ]
  },
  {
   "cell_type": "markdown",
   "metadata": {
    "slideshow": {
     "slide_type": "subslide"
    }
   },
   "source": [
    "**Strategy:**\n",
    "\n",
    "Generate the sequence of guesses $\\{x_k\\}_{k=0, \\dots, k_\\max}$, starting from the initial guess $x_0$ and leading to the found solution $x_{k_\\max} \\approx x_\\ast$.\n",
    "\n",
    "Compute the $k_\\max$ ratios between successive values of the absolute error $|e_k| = |x_k - x_{k_\\max}|$:\n",
    "\n",
    "$$\n",
    "r_k = \\frac{|e_{k+1}|}{|e_k|}, \\quad k = 0, \\dots, k_\\max-1\n",
    "$$"
   ]
  },
  {
   "cell_type": "markdown",
   "metadata": {
    "slideshow": {
     "slide_type": "fragment"
    }
   },
   "source": [
    "Compute and plot the $k_\\max-1$ values of $p_k$:\n",
    "\n",
    "$$\n",
    "p_k = \\frac{\\log r_k}{\\log r_{k-1}}, \\quad k=1, \\dots, k_\\max - 1\n",
    "$$"
   ]
  },
  {
   "cell_type": "code",
   "execution_count": 20,
   "metadata": {
    "slideshow": {
     "slide_type": "subslide"
    }
   },
   "outputs": [
    {
     "data": {
      "image/png": "[encoded data removed]",
      "text/plain": [
       "<Figure size 576x288 with 1 Axes>"
      ]
     },
     "metadata": {
      "needs_background": "light"
     },
     "output_type": "display_data"
    }
   ],
   "source": [
    "%matplotlib inline\n",
    "%run regula_falsi_convergence.py\n",
    "plt.show()"
   ]
  }
 ],
 "metadata": {
  "celltoolbar": "Slideshow",
  "kernelspec": {
   "display_name": "Python 3",
   "language": "python",
   "name": "python3"
  },
  "language_info": {
   "codemirror_mode": {
    "name": "ipython",
    "version": 3
   },
   "file_extension": ".py",
   "mimetype": "text/x-python",
   "name": "python",
   "nbconvert_exporter": "python",
   "pygments_lexer": "ipython3",
   "version": "3.7.6"
  }
 },
 "nbformat": 4,
 "nbformat_minor": 4
}
